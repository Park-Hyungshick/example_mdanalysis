{
 "cells": [
  {
   "cell_type": "markdown",
   "id": "b43c94c8-8eb6-4a56-ab11-c1f8536690e0",
   "metadata": {},
   "source": [
    "# Applications!\n",
    "In this ipynb file, we will show you how to apply **MDAnalysis** to calcultate time averaged properties of the radial distribution function (RDF).\n",
    "\n",
    "Reference: https://userguide.mdanalysis.org/1.1.1/examples/analysis/custom_parallel_analysis.html"
   ]
  },
  {
   "cell_type": "code",
   "execution_count": 1,
   "id": "322eb0e2-2189-4807-933f-aeae16ffc030",
   "metadata": {},
   "outputs": [],
   "source": [
    "import MDAnalysis as mda\n",
    "import numpy as np\n",
    "import pandas as pd\n",
    "import matplotlib.pyplot as plt\n",
    "from openmm.app import PDBxFile\n",
    "from openmm.app import PDBFile\n",
    "from openmm.app import ForceField\n",
    "import time\n",
    "import sys\n",
    "import os"
   ]
  },
  {
   "cell_type": "code",
   "execution_count": 2,
   "id": "3b7ad791-cdf0-426b-a6a0-f84f0941241f",
   "metadata": {},
   "outputs": [],
   "source": [
    "# import library files\n",
    "sys.path.append('./lib')\n",
    "from mylib import rdf_self, rdf, center\n",
    "from QfromFF import QfromFF"
   ]
  },
  {
   "cell_type": "code",
   "execution_count": 3,
   "id": "dfd56a93-eca4-4b12-a2d6-2e3dff0c11bb",
   "metadata": {},
   "outputs": [],
   "source": [
    "# Multiprocess packages\n",
    "import multiprocessing\n",
    "from multiprocessing import Pool\n",
    "from functools import partial"
   ]
  },
  {
   "cell_type": "code",
   "execution_count": 4,
   "id": "e2209c0e-f18b-48ba-93dc-09da1807e352",
   "metadata": {},
   "outputs": [],
   "source": [
    "# Topology files\n",
    "topfile='./example_files/md_nvt_last.cif'\n",
    "\n",
    "# Position files that contain trajectories of simulation\n",
    "posfile='./example_files/md_nvt.dcd'"
   ]
  },
  {
   "cell_type": "code",
   "execution_count": 5,
   "id": "1b94ee66-2b05-4499-825b-784c28dbdf5f",
   "metadata": {},
   "outputs": [
    {
     "name": "stderr",
     "output_type": "stream",
     "text": [
      "/home/ph/Programs/miniconda3/envs/omm_8.3/lib/python3.13/site-packages/MDAnalysis/coordinates/DCD.py:165: DeprecationWarning: DCDReader currently makes independent timesteps by copying self.ts while other readers update self.ts inplace. This behavior will be changed in 3.0 to be the same as other readers. Read more at https://github.com/MDAnalysis/mdanalysis/issues/3889 to learn if this change in behavior might affect you.\n",
      "  warnings.warn(\"DCDReader currently makes independent timesteps\"\n"
     ]
    }
   ],
   "source": [
    "# Create universe object\n",
    "u = mda.Universe(PDBxFile(topfile),posfile, dt=10000)\n",
    "\n",
    "# MDAnalysis do not support the reading cif (extended PDB file) formatted files.\n",
    "# Here, we utilize the openmm.app.PDBxFile reader function to load topology informations.\n",
    "# For PDBFile you can use it directly as follows,\n",
    "# u = mda.Universe(topfile,posfile,dt=10000)"
   ]
  },
  {
   "cell_type": "code",
   "execution_count": 6,
   "id": "b7c72307-addf-4bea-8d86-44ada7d6ceaa",
   "metadata": {},
   "outputs": [
    {
     "name": "stdout",
     "output_type": "stream",
     "text": [
      "c4c c4c1pyrr+\n",
      "tf2 tf2N-\n",
      "{'c4c': 'c4c1pyrr+', 'tf2': 'tf2N-'}\n"
     ]
    }
   ],
   "source": [
    "# Force field file in OpenMM\n",
    "fieldfile=\"./example_files/field_q08.xml\"\n",
    "ff=ForceField(fieldfile)\n",
    "\n",
    "# Set-up charges from force field file\n",
    "QfromFF(u,ff)"
   ]
  },
  {
   "cell_type": "code",
   "execution_count": 7,
   "id": "dad466cf-7a27-4e9c-9dfc-104870aaeb5e",
   "metadata": {},
   "outputs": [],
   "source": [
    "def rdf_per_frame(frame_index, atomgroup1, atomgroup2, bin):\n",
    "    \"\"\"\n",
    "    frame_index : target frame index\n",
    "    atomgroup1 : atom group objects\n",
    "    atomgroup2 : ...\n",
    "    bin : bin size for the calculation of radial distribution function (unit: Angstrom)\n",
    "\n",
    "    If, atomgroup1 == atomgroup2, rdf_self subroutine will be used.\n",
    "    Else, rdf subroutine will be used.\n",
    "\n",
    "    Here, we used the center of charges for the definition of COM.\n",
    "    Therefore, before using this functions all the partial charges should be set-up\n",
    "    by QfromFF function.\n",
    "\n",
    "    return value histo is the 1-D array with dimension (4000)\n",
    "    caution: histo array is yet normalzied by 4 pi r^2\n",
    "    \n",
    "    \"\"\"\n",
    "    \n",
    "    # index the trajectory to set it to the frame_index frame\n",
    "    atomgroup1.universe.trajectory[frame_index]\n",
    "\n",
    "    # coordinates change for each frame\n",
    "    box1 = atomgroup1.dimensions\n",
    "    box2 = atomgroup2.dimensions\n",
    "    assert (box1==box2).all()\n",
    "\n",
    "    if ( atomgroup1 == atomgroup2 ):\n",
    "        res1_ids=list(set(atomgroup1.resids))\n",
    "        res1_masses=u.select_atoms(f'resid {res1_ids[0]}').charges\n",
    "        pos1 = center( atomgroup1.positions, res1_masses , len(res1_ids) )\n",
    "        histo = rdf_self(pos1, box1, bin)\n",
    "\n",
    "    else:\n",
    "        res1_ids=list(set(atomgroup1.resids))\n",
    "        res1_masses=u.select_atoms(f'resid {res1_ids[0]}').charges\n",
    "        pos1 = center( atomgroup1.positions, res1_masses , len(res1_ids) )\n",
    "\n",
    "        res2_ids=list(set(atomgroup2.resids))\n",
    "        res2_masses=u.select_atoms(f'resid {res2_ids[0]}').charges\n",
    "        pos2 = center( atomgroup2.positions, res2_masses , len(res2_ids) )\n",
    "\n",
    "        histo = rdf(pos1, pos2, box1, bin)\n",
    "\n",
    "    #print('pid : %d' %(os.getpid()))\n",
    "    #print(\"   \",pos1[0], ag1.positions[0])\n",
    "    return histo"
   ]
  },
  {
   "cell_type": "code",
   "execution_count": 10,
   "id": "1a55b8c0-914f-4ffe-96b1-c8d5a7e67296",
   "metadata": {},
   "outputs": [
    {
     "name": "stdout",
     "output_type": "stream",
     "text": [
      "0.71647sec\n"
     ]
    },
    {
     "data": {
      "text/plain": [
       "(0.0, 2.5)"
      ]
     },
     "execution_count": 10,
     "metadata": {},
     "output_type": "execute_result"
    },
    {
     "data": {
      "image/png": "[encoded data removed]",
      "text/plain": [
       "<Figure size 640x480 with 1 Axes>"
      ]
     },
     "metadata": {},
     "output_type": "display_data"
    }
   ],
   "source": [
    "# Calculation of radial distribution function \n",
    "# between cations and anions for the first trajectory.\n",
    "\n",
    "ag1 = u.select_atoms(f'resname c4c')\n",
    "ag2 = u.select_atoms(f'resname tf2')\n",
    "\n",
    "run_per_frame = partial(rdf_per_frame,\n",
    "                        atomgroup1=ag1,\n",
    "                        atomgroup2=ag2,\n",
    "                        bin=0.03)\n",
    "\n",
    "# Calculate RDF using multiprocess\n",
    "frame_values = np.arange(u.trajectory.n_frames)\n",
    "n_jobs = 4\n",
    "\n",
    "start=time.time()\n",
    "with Pool(n_jobs) as worker_pool:\n",
    "    result = worker_pool.map(run_per_frame, frame_values)\n",
    "end=time.time()\n",
    "\n",
    "print(f\"{end-start:.5f}sec\")\n",
    "\n",
    "ntraj=len(frame_values)\n",
    "averaged=np.sum(result, axis=0)/np.float64(ntraj)\n",
    "\n",
    "r =[]\n",
    "for ibin in range(1,4001):\n",
    "    r.append( (ibin-0.5)*0.03/10 ) # Angstrom to nanometer \n",
    "\n",
    "plt.plot(r,averaged)\n",
    "plt.plot(r,[1]*4000)\n",
    "\n",
    "plt.xlabel(\"r (nm)\", fontsize=12)\n",
    "plt.ylabel(\"g(r)\", fontsize=14)\n",
    "\n",
    "plt.xlim(0,2.5)"
   ]
  }
 ],
 "metadata": {
  "kernelspec": {
   "display_name": "Python 3 (ipykernel)",
   "language": "python",
   "name": "python3"
  },
  "language_info": {
   "codemirror_mode": {
    "name": "ipython",
    "version": 3
   },
   "file_extension": ".py",
   "mimetype": "text/x-python",
   "name": "python",
   "nbconvert_exporter": "python",
   "pygments_lexer": "ipython3",
   "version": "3.13.5"
  }
 },
 "nbformat": 4,
 "nbformat_minor": 5
}
