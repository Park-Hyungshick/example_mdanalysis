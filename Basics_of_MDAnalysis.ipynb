{
 "cells": [
  {
   "cell_type": "markdown",
   "id": "b43c94c8-8eb6-4a56-ab11-c1f8536690e0",
   "metadata": {},
   "source": [
    "# What is MDAnalysis?\n",
    "Reference: https://www.mdanalysis.org/\n",
    "\n",
    "The **MDAnalysis** Project develops open-source tools for the analysis of molecular simulation data, providing researchers with efficient and accessible solutions for studying molecular structures and dynamics.\n",
    "\n",
    "MDAnalysis is a fiscally sponsored project of NumFOCUS, a nonprofit that promotes open practices in research, data, and scientific computing.\n",
    "\n",
    "At the core of the project is MDAnalysis, **an open-source Python library** for analyzing molecular dynamics (MD) trajectories across multiple formats. MDAnalysis enables seamless <U>reading and writing of simulation data, allowing users to efficiently analyze molecular structures and dynamics, including particle-based trajectories and individual coordinate frames (e.g., biomolecules in the PDB format).</U>\n",
    "\n",
    "With MDAnalysis, you can access atomic coordinates as NumPy arrays, providing a flexible and efficient framework for complex analysis tasks. The library includes powerful atom selection commands for extracting subsets of structures and supports trajectory transformations (e.g., fitting to a reference structure).\n",
    "\n",
    "Learn more about our **mission, development, team, and governance** on the About MDAnalysis page.\n",
    "\n"
   ]
  },
  {
   "cell_type": "code",
   "execution_count": 1,
   "id": "322eb0e2-2189-4807-933f-aeae16ffc030",
   "metadata": {},
   "outputs": [],
   "source": [
    "import MDAnalysis as mda\n",
    "import numpy as np\n",
    "import pandas as pd\n",
    "import matplotlib.pyplot as plt\n",
    "from openmm.app import PDBxFile\n",
    "from openmm.app import PDBFile\n",
    "from openmm.app import ForceField\n",
    "import time\n",
    "import sys\n",
    "import os"
   ]
  },
  {
   "cell_type": "code",
   "execution_count": 2,
   "id": "3b7ad791-cdf0-426b-a6a0-f84f0941241f",
   "metadata": {},
   "outputs": [],
   "source": [
    "# import library files\n",
    "sys.path.append('./lib')\n",
    "from mylib import rdf_self, rdf, center"
   ]
  },
  {
   "cell_type": "code",
   "execution_count": 3,
   "id": "e2209c0e-f18b-48ba-93dc-09da1807e352",
   "metadata": {},
   "outputs": [],
   "source": [
    "# Topology files\n",
    "topfile='./example_files/md_nvt_last.cif'\n",
    "\n",
    "# Position files that contain trajectories of simulation\n",
    "posfile='./example_files/md_nvt.dcd'"
   ]
  },
  {
   "cell_type": "markdown",
   "id": "6b6b595c-58b0-4c02-86af-06504b4a6e88",
   "metadata": {},
   "source": [
    "**Create universe object**\n",
    "\n",
    "Universe object contains all the informations that needed to know about the trajectories.<br>\n",
    "For example, it contains topology informations such as bonding connectivities, molecular compositions... etc.<br>\n",
    "Also, they contains all the coordinates and simulation cell informations during simulations.<br>\n",
    "\n",
    "--------------------------\n",
    "```\n",
    "u = Universe(topology, trajectory)\n",
    "u = Universe(pdbfile)                       # read atoms and coordinates from PDB or GRO\n",
    "u = Universe(topology, [traj1, traj2, ...]) # read from a list of trajectories\n",
    "u = Universe(topology, traj1, traj2, ...)   # read from multiple trajectories\n",
    "```"
   ]
  },
  {
   "cell_type": "code",
   "execution_count": 4,
   "id": "1b94ee66-2b05-4499-825b-784c28dbdf5f",
   "metadata": {},
   "outputs": [
    {
     "name": "stderr",
     "output_type": "stream",
     "text": [
      "/home/ph/Programs/miniconda3/envs/omm_8.3/lib/python3.13/site-packages/MDAnalysis/coordinates/DCD.py:165: DeprecationWarning: DCDReader currently makes independent timesteps by copying self.ts while other readers update self.ts inplace. This behavior will be changed in 3.0 to be the same as other readers. Read more at https://github.com/MDAnalysis/mdanalysis/issues/3889 to learn if this change in behavior might affect you.\n",
      "  warnings.warn(\"DCDReader currently makes independent timesteps\"\n"
     ]
    }
   ],
   "source": [
    "# Create universe object\n",
    "u = mda.Universe(PDBxFile(topfile),posfile, dt=10000)\n",
    "\n",
    "# MDAnalysis do not support the reading cif (extended PDB file) formatted files.\n",
    "# Here, we utilize the openmm.app.PDBxFile reader function to load topology informations.\n",
    "# For PDBFile you can use it directly as follows,\n",
    "# u = mda.Universe(topfile,posfile,dt=10000)"
   ]
  },
  {
   "cell_type": "code",
   "execution_count": 5,
   "id": "a316377f-4aca-4fe7-ae0a-8fe05c6c9c79",
   "metadata": {},
   "outputs": [
    {
     "data": {
      "text/plain": [
       "<Universe with 13500 atoms>"
      ]
     },
     "execution_count": 5,
     "metadata": {},
     "output_type": "execute_result"
    }
   ],
   "source": [
    "u"
   ]
  },
  {
   "cell_type": "code",
   "execution_count": 6,
   "id": "05d28cbc-b4ee-4834-bff9-039356fa104b",
   "metadata": {},
   "outputs": [
    {
     "data": {
      "text/plain": [
       "<AtomGroup with 13500 atoms>"
      ]
     },
     "execution_count": 6,
     "metadata": {},
     "output_type": "execute_result"
    }
   ],
   "source": [
    "u.atoms"
   ]
  },
  {
   "cell_type": "code",
   "execution_count": 7,
   "id": "c404dfdd-4182-4476-80d5-f8944477c254",
   "metadata": {},
   "outputs": [
    {
     "data": {
      "text/plain": [
       "<DCDReader ./example_files/md_nvt.dcd with 500 frames of 13500 atoms>"
      ]
     },
     "execution_count": 7,
     "metadata": {},
     "output_type": "execute_result"
    }
   ],
   "source": [
    "u.trajectory"
   ]
  },
  {
   "cell_type": "code",
   "execution_count": 8,
   "id": "79ac4482-44b6-40d2-b27d-3fb7dbeb42dc",
   "metadata": {},
   "outputs": [
    {
     "name": "stdout",
     "output_type": "stream",
     "text": [
      "Number of atoms: 13500\n",
      "Number of configurations in the trajectory: 500\n",
      "List of residue names of our simulations\n",
      "       0\n",
      "0    c4c\n",
      "1    c4c\n",
      "2    c4c\n",
      "3    c4c\n",
      "4    c4c\n",
      "..   ...\n",
      "595  tf2\n",
      "596  tf2\n",
      "597  tf2\n",
      "598  tf2\n",
      "599  tf2\n",
      "\n",
      "[600 rows x 1 columns]\n"
     ]
    }
   ],
   "source": [
    "print(f\"Number of atoms: {u.atoms.n_atoms}\")\n",
    "print(f\"Number of configurations in the trajectory: {u.trajectory.n_frames}\")\n",
    "print(f\"List of residue names of our simulations\")\n",
    "print(pd.DataFrame(u.residues.resnames))"
   ]
  },
  {
   "cell_type": "code",
   "execution_count": 9,
   "id": "099d8ce3-9ab6-414f-a053-bdded46bf2e6",
   "metadata": {},
   "outputs": [
    {
     "name": "stdout",
     "output_type": "stream",
     "text": [
      "<AtomGroup [<Atom 1: N of type N of resname c4c, resid 1 and segid 0>, <Atom 2: C1 of type C of resname c4c, resid 1 and segid 0>, <Atom 3: C2 of type C of resname c4c, resid 1 and segid 0>, ..., <Atom 8998: H18 of type H of resname c4c, resid 300 and segid 0>, <Atom 8999: H19 of type H of resname c4c, resid 300 and segid 0>, <Atom 9000: H20 of type H of resname c4c, resid 300 and segid 0>]>\n",
      "<Residue c4c, 1>\n"
     ]
    }
   ],
   "source": [
    "ag = u.select_atoms('resname c4c')\n",
    "print(ag)\n",
    "residue = ag.residues[0]\n",
    "print(residue)"
   ]
  },
  {
   "cell_type": "code",
   "execution_count": 10,
   "id": "38d9f153-45bc-4cf1-bbf4-b24b5d3e017d",
   "metadata": {},
   "outputs": [
    {
     "name": "stdout",
     "output_type": "stream",
     "text": [
      "[14.00672  12.01078  12.01078  12.01078  12.01078  12.01078  12.01078\n",
      "  1.007947  1.007947  1.007947  1.007947  1.007947  1.007947  1.007947\n",
      "  1.007947  1.007947  1.007947  1.007947  1.007947  1.007947 12.01078\n",
      "  1.007947  1.007947 12.01078   1.007947  1.007947 12.01078   1.007947\n",
      "  1.007947  1.007947]\n",
      "[ 5.47603736 28.7324776  45.44602173]\n"
     ]
    }
   ],
   "source": [
    "print(residue.atoms.masses)\n",
    "print(residue.atoms.center_of_mass())"
   ]
  },
  {
   "cell_type": "code",
   "execution_count": 11,
   "id": "ad8bb424-f973-48dc-bdcf-b6478916e16a",
   "metadata": {},
   "outputs": [
    {
     "name": "stdout",
     "output_type": "stream",
     "text": [
      "[ 5.47603736 28.7324776  45.44602173]\n",
      "[ 7.69231973 24.48778236 49.89751883]\n"
     ]
    }
   ],
   "source": [
    "u.trajectory[0]\n",
    "print(residue.atoms.center_of_mass())\n",
    "u.trajectory[100]\n",
    "print(residue.atoms.center_of_mass())"
   ]
  },
  {
   "cell_type": "code",
   "execution_count": 12,
   "id": "dad466cf-7a27-4e9c-9dfc-104870aaeb5e",
   "metadata": {},
   "outputs": [],
   "source": [
    "def rdf_per_frame(frame_index, atomgroup1, atomgroup2, bin):\n",
    "    \"\"\"\n",
    "    frame_index : target frame index\n",
    "    atomgroup1 : atom group objects\n",
    "    atomgroup2 : ...\n",
    "    bin : bin size for the calculation of radial distribution function (unit: Angstrom)\n",
    "\n",
    "    If, atomgroup1 == atomgroup2, rdf_self subroutine will be used.\n",
    "    Else, rdf subroutine will be used.\n",
    "\n",
    "    return value histo is the 1-D array with dimension (4000)\n",
    "    caution: histo array is yet normalzied by 4 pi r^2\n",
    "    \n",
    "    \"\"\"\n",
    "    \n",
    "    # index the trajectory to set it to the frame_index frame\n",
    "    atomgroup1.universe.trajectory[frame_index]\n",
    "\n",
    "    # coordinates change for each frame\n",
    "    box1 = atomgroup1.dimensions\n",
    "    box2 = atomgroup2.dimensions\n",
    "    assert (box1==box2).all()\n",
    "\n",
    "    if ( atomgroup1 == atomgroup2 ):\n",
    "        res1_ids=list(set(atomgroup1.resids))\n",
    "        res1_masses=u.select_atoms(f'resid {res1_ids[0]}').masses\n",
    "        pos1 = center( atomgroup1.positions, res1_masses , len(res1_ids) )\n",
    "        histo = rdf_self(pos1, box1, bin)\n",
    "\n",
    "    else:\n",
    "        res1_ids=list(set(atomgroup1.resids))\n",
    "        res1_masses=u.select_atoms(f'resid {res1_ids[0]}').masses\n",
    "        pos1 = center( atomgroup1.positions, res1_masses , len(res1_ids) )\n",
    "\n",
    "        res2_ids=list(set(atomgroup2.resids))\n",
    "        res2_masses=u.select_atoms(f'resid {res2_ids[0]}').masses\n",
    "        pos2 = center( atomgroup2.positions, res2_masses , len(res2_ids) )\n",
    "\n",
    "        histo = rdf(pos1, pos2, box1, bin)\n",
    "\n",
    "    #print('pid : %d' %(os.getpid()))\n",
    "    #print(\"   \",pos1[0], ag1.positions[0])\n",
    "    return histo"
   ]
  },
  {
   "cell_type": "code",
   "execution_count": 13,
   "id": "1a55b8c0-914f-4ffe-96b1-c8d5a7e67296",
   "metadata": {},
   "outputs": [
    {
     "data": {
      "text/plain": [
       "(0.0, 2.0)"
      ]
     },
     "execution_count": 13,
     "metadata": {},
     "output_type": "execute_result"
    },
    {
     "data": {
      "image/png": "[encoded data removed]",
      "text/plain": [
       "<Figure size 640x480 with 1 Axes>"
      ]
     },
     "metadata": {},
     "output_type": "display_data"
    }
   ],
   "source": [
    "# Calculation of radial distribution function \n",
    "# between cations and anions for the first trajectory.\n",
    "\n",
    "ag1 = u.select_atoms(f'resname c4c')\n",
    "ag2 = u.select_atoms(f'resname tf2')\n",
    "\n",
    "histo = rdf_per_frame(0,ag1,ag2,0.1) # Angstrom unit\n",
    "vol = u.dimensions[0] * u.dimensions[1] * u.dimensions[2]\n",
    "rho = ag2.n_residues/vol\n",
    "\n",
    "r =[]\n",
    "for ibin in range(1,4001):\n",
    "    r.append( (ibin-0.5)*0.1/10 ) # Angstrom to nanometer \n",
    "\n",
    "plt.plot(r,histo)\n",
    "plt.plot(r,[1]*4000)\n",
    "\n",
    "plt.xlabel(\"r (nm)\", fontsize=12)\n",
    "plt.ylabel(\"g(r)\", fontsize=14)\n",
    "\n",
    "plt.xlim(0,2)"
   ]
  }
 ],
 "metadata": {
  "kernelspec": {
   "display_name": "Python 3 (ipykernel)",
   "language": "python",
   "name": "python3"
  },
  "language_info": {
   "codemirror_mode": {
    "name": "ipython",
    "version": 3
   },
   "file_extension": ".py",
   "mimetype": "text/x-python",
   "name": "python",
   "nbconvert_exporter": "python",
   "pygments_lexer": "ipython3",
   "version": "3.13.5"
  }
 },
 "nbformat": 4,
 "nbformat_minor": 5
}
